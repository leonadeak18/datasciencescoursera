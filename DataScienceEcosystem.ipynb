{
 "cells": [
  {
   "cell_type": "markdown",
   "id": "9ba85207-b8d2-4d3a-9b10-9a323cfc68cc",
   "metadata": {},
   "source": [
    "# Data Science Tools and Ecosystem"
   ]
  },
  {
   "cell_type": "markdown",
   "id": "98e83d56-e3c7-4373-b210-945400056e90",
   "metadata": {},
   "source": [
    "In this notebook, Data Science Tools and Ecosystem are summarized."
   ]
  },
  {
   "cell_type": "markdown",
   "id": "5f954974-1e0c-45bd-8bf3-a4e29ffb1bdc",
   "metadata": {},
   "source": [
    "Some of the popular languages that Data Scientists use are:\n",
    "1. Python\n",
    "2. R\n",
    "3. Javascript"
   ]
  },
  {
   "cell_type": "markdown",
   "id": "09122def-deb9-4a0f-beb2-f16283a2fbdc",
   "metadata": {},
   "source": [
    "Some of the commonly used libraries used by Data Scientists include:\n",
    "1. Scikit-learn\n",
    "2. Matplotlib\n",
    "3. Pandas\n",
    "4. NumPy\n",
    "5. TensorFlow"
   ]
  },
  {
   "cell_type": "markdown",
   "id": "3e2f07b7-4b14-4b34-9f24-a753ef58c5aa",
   "metadata": {},
   "source": [
    "| Data Science Tools|\n",
    "|-------------------|\n",
    "| Language of Data Science|\n",
    "| APIs|\n",
    "|Packages|\n",
    "|Dataset|"
   ]
  },
  {
   "cell_type": "markdown",
   "id": "2f29df5e-d8ee-40c2-b869-edf181035789",
   "metadata": {},
   "source": [
    "### Below are a few examples of evaluating arithmetic expressions in Python"
   ]
  },
  {
   "cell_type": "code",
   "execution_count": 11,
   "id": "9428772e-8d76-4f54-891e-b68c0b7f8ce9",
   "metadata": {},
   "outputs": [
    {
     "data": {
      "text/plain": [
       "17"
      ]
     },
     "execution_count": 11,
     "metadata": {},
     "output_type": "execute_result"
    }
   ],
   "source": [
    "#This a simple arithmetic expression to mutiply then add integers\n",
    "(3*4)+5"
   ]
  },
  {
   "cell_type": "code",
   "execution_count": 13,
   "id": "9488764b-8222-4eb3-99b8-d01cf9f86dfd",
   "metadata": {},
   "outputs": [
    {
     "data": {
      "text/plain": [
       "3.3333333333333335"
      ]
     },
     "execution_count": 13,
     "metadata": {},
     "output_type": "execute_result"
    }
   ],
   "source": [
    "#This will convert 200 minutes to hours by diving by 60\n",
    "200/60"
   ]
  },
  {
   "cell_type": "markdown",
   "id": "34db6a0d-3342-400d-bab8-173ab2ded369",
   "metadata": {},
   "source": [
    "**Objectives:**\n",
    "- Learning about R and Rstudio\n",
    "- Delve into Python and Jupyter notebook\n",
    "- Githb knowledge for code repository"
   ]
  },
  {
   "cell_type": "markdown",
   "id": "24d1b054-9ac2-494c-a5f4-7d9ddad739a2",
   "metadata": {},
   "source": [
    "## Author:"
   ]
  },
  {
   "cell_type": "markdown",
   "id": "387a97aa-f62e-4d67-8e5f-1e3bef859393",
   "metadata": {},
   "source": [
    "Dedy Leonardo Nadeak"
   ]
  },
  {
   "cell_type": "code",
   "execution_count": null,
   "id": "fbccf6ec-5d5b-4691-a47d-44e7151a4cba",
   "metadata": {},
   "outputs": [],
   "source": []
  }
 ],
 "metadata": {
  "kernelspec": {
   "display_name": "Python 3 (ipykernel)",
   "language": "python",
   "name": "python3"
  },
  "language_info": {
   "codemirror_mode": {
    "name": "ipython",
    "version": 3
   },
   "file_extension": ".py",
   "mimetype": "text/x-python",
   "name": "python",
   "nbconvert_exporter": "python",
   "pygments_lexer": "ipython3",
   "version": "3.12.4"
  }
 },
 "nbformat": 4,
 "nbformat_minor": 5
}
